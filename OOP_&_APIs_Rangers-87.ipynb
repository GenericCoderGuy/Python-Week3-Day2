{
 "cells": [
  {
   "cell_type": "markdown",
   "metadata": {},
   "source": [
    "# Object Oriented Programming 2 - examples and APIs\n"
   ]
  },
  {
   "cell_type": "markdown",
   "metadata": {},
   "source": [
    "## Tasks Today:\n",
    "\n",
    "   \n",
    "\n",
    "1) <b>Shopping Cart Example</b> <br>\n",
    "2) <b>Requests and the pokemon API </b> <br>\n",
    " "
   ]
  },
  {
   "cell_type": "markdown",
   "metadata": {},
   "source": [
    "# Goal \n",
    "### build a shopping cart program with prices and quantities using objects and a dictionary"
   ]
  },
  {
   "cell_type": "code",
   "execution_count": null,
   "metadata": {},
   "outputs": [],
   "source": [
    "from IPython.display import clear_output as clear\n",
    "# Create a class called cart that retains items and has methods to add, remove, and show\n",
    "\n"
   ]
  },
  {
   "cell_type": "markdown",
   "metadata": {},
   "source": [
    "# working with APis"
   ]
  },
  {
   "cell_type": "markdown",
   "metadata": {},
   "source": [
    "<p> What exactly is an API? <br> <br>\n",
    "API is the acronym for Application Programming Interface, which is a software intermediary that allows two applications to talk to each other. Each time you use an app like Facebook, send an instant message, or check the weather on your phone, you're using an API. </p>"
   ]
  },
  {
   "cell_type": "markdown",
   "metadata": {},
   "source": [
    "### The Poke API  allows you to retreive a pokemon's information from PokeAPI https://pokeapi.co/\n",
    "\n"
   ]
  },
  {
   "cell_type": "code",
   "execution_count": null,
   "metadata": {},
   "outputs": [],
   "source": [
    "# making an API call\n",
    "from pip._vendor import requests\n",
    "\n",
    "response = requests.get('https://pokeapi.co/api/v2/pokemon/pichu/')\n",
    "\n",
    "data = response.json()"
   ]
  },
  {
   "cell_type": "code",
   "execution_count": null,
   "metadata": {},
   "outputs": [],
   "source": [
    "# data['height']\n",
    "data['sprites']"
   ]
  },
  {
   "cell_type": "markdown",
   "metadata": {},
   "source": [
    "### Display a Pokemon's name, weight, abilities, and types"
   ]
  },
  {
   "cell_type": "markdown",
   "metadata": {},
   "source": [
    "### Display a Pokemon's name, weight, abilities, and types"
   ]
  },
  {
   "cell_type": "code",
   "execution_count": null,
   "metadata": {},
   "outputs": [],
   "source": [
    "# get the name\n",
    "data['name']"
   ]
  },
  {
   "cell_type": "code",
   "execution_count": null,
   "metadata": {},
   "outputs": [],
   "source": [
    "# get types\n",
    "data['types'][0]['type']['name']\n",
    "data['sprites']['back_default']"
   ]
  },
  {
   "cell_type": "code",
   "execution_count": null,
   "metadata": {},
   "outputs": [],
   "source": [
    "response2 = requests.get('https://pokeapi.co/api/v2/pokemon/garchomp/')\n",
    "\n",
    "garchomp = response2.json()"
   ]
  },
  {
   "cell_type": "code",
   "execution_count": null,
   "metadata": {},
   "outputs": [],
   "source": [
    "garchomp['types']"
   ]
  },
  {
   "cell_type": "code",
   "execution_count": null,
   "metadata": {},
   "outputs": [],
   "source": [
    "garchomp_types = [p_type['type']['name'] for p_type in garchomp['types']]"
   ]
  },
  {
   "cell_type": "code",
   "execution_count": null,
   "metadata": {},
   "outputs": [],
   "source": [
    "garchomp_types"
   ]
  },
  {
   "cell_type": "code",
   "execution_count": null,
   "metadata": {},
   "outputs": [],
   "source": [
    "# get weight"
   ]
  },
  {
   "cell_type": "code",
   "execution_count": null,
   "metadata": {},
   "outputs": [],
   "source": [
    "# get abilities\n",
    "response3 = requests.get('https://pokeapi.co/api/v2/pokemon/pikachu/')\n",
    "\n",
    "pikachu = response3.json()\n",
    "\n",
    "pikachu['abilities']\n",
    "\n",
    "pikachu = [p_ability['ability']['name'] for p_ability in pikachu['abilities']]\n"
   ]
  },
  {
   "cell_type": "code",
   "execution_count": null,
   "metadata": {},
   "outputs": [],
   "source": [
    "pikachu"
   ]
  },
  {
   "cell_type": "code",
   "execution_count": null,
   "metadata": {},
   "outputs": [],
   "source": [
    "# Create a structure for a single pokemon\n",
    "pokemon = {\n",
    "    'name': data['name'],\n",
    "    'types': [p_type['type']['name'] for p_type in data['types']],\n",
    "    'weight': data['weight'],\n",
    "    'abilities': [p_abilities['ability']['name'] for p_abilities in data['abilities']]\n",
    "}"
   ]
  },
  {
   "cell_type": "code",
   "execution_count": null,
   "metadata": {},
   "outputs": [],
   "source": [
    "pokemon"
   ]
  },
  {
   "cell_type": "markdown",
   "metadata": {},
   "source": [
    "#### Create a function to Pull in your own Pokemon's data "
   ]
  },
  {
   "cell_type": "code",
   "execution_count": null,
   "metadata": {},
   "outputs": [],
   "source": [
    "def poke_api_call(pokemon):\n",
    "    from pip._vendor import requests\n",
    "\n",
    "    response = requests.get(f'https://pokeapi.co/api/v2/pokemon/{pokemon}/')\n",
    "\n",
    "    data = response.json()\n",
    "\n",
    "    pokemon = {\n",
    "    'name': data['name'],\n",
    "    'types': [p_type['type']['name'] for p_type in data['types']],\n",
    "    'weight': data['weight'],\n",
    "    'abilities': [p_abilities['ability']['name'] for p_abilities in data['abilities']]\n",
    "    }\n",
    "\n",
    "    return pokemon"
   ]
  },
  {
   "cell_type": "code",
   "execution_count": null,
   "metadata": {},
   "outputs": [],
   "source": [
    "poke_api_call('charmander')"
   ]
  },
  {
   "cell_type": "code",
   "execution_count": null,
   "metadata": {},
   "outputs": [],
   "source": [
    "# What's the name of the pokemon with the ID 421?\n",
    "pokemon421 = poke_api_call(421)\n",
    "\n",
    "pokemon421['name']"
   ]
  },
  {
   "cell_type": "markdown",
   "metadata": {},
   "source": [
    "Choose your pokemon"
   ]
  },
  {
   "cell_type": "code",
   "execution_count": null,
   "metadata": {},
   "outputs": [],
   "source": [
    "from random import randint\n",
    "# Random number generated for each pokemon id\n",
    "random_team = [randint(1,898) for i in range(6)]\n",
    "\n",
    "print(random_team)\n",
    "\n",
    "your_team = ['electabuzz', 'haunter','tyranitar','blaziken','marowak','dragonair']\n"
   ]
  },
  {
   "cell_type": "markdown",
   "metadata": {},
   "source": []
  },
  {
   "cell_type": "code",
   "execution_count": null,
   "metadata": {},
   "outputs": [],
   "source": []
  },
  {
   "cell_type": "markdown",
   "metadata": {},
   "source": [
    "#### Use your function to create a dictionary of your Johto League 6  (favorite 6 pokemon)"
   ]
  },
  {
   "cell_type": "code",
   "execution_count": null,
   "metadata": {},
   "outputs": [],
   "source": [
    "# Place all 6 of your pokemon on the object below, each pokemon should have at least as much info as Pikachu did.\n",
    "my_six_pokemon = {}\n",
    "\n",
    "for pokemon in your_team:\n",
    "    pokemon_stats = poke_api_call(pokemon)\n",
    "\n",
    "    my_six_pokemon[pokemon.title()] = pokemon_stats"
   ]
  },
  {
   "cell_type": "code",
   "execution_count": null,
   "metadata": {},
   "outputs": [],
   "source": [
    "my_six_pokemon"
   ]
  },
  {
   "cell_type": "code",
   "execution_count": null,
   "metadata": {},
   "outputs": [],
   "source": [
    "random_six_pokemon = {}\n",
    "\n",
    "for pokemon in your_team:\n",
    "    pokemone_stats = poke_api_call(pokemon)\n",
    "\n",
    "    random_six_pokemon[pokemon_stats['name'].title()] = pokemon_stats\n"
   ]
  },
  {
   "cell_type": "code",
   "execution_count": null,
   "metadata": {},
   "outputs": [],
   "source": [
    "random_six_pokemon"
   ]
  },
  {
   "cell_type": "markdown",
   "metadata": {},
   "source": [
    "## Lets create a class called 'Pokemon' and create our pokemon as instances"
   ]
  },
  {
   "cell_type": "code",
   "execution_count": null,
   "metadata": {},
   "outputs": [],
   "source": [
    "class Pokemon():\n",
    "    def __init__(self, name):\n",
    "        self.name = name.lower()\n",
    "        self.types = []\n",
    "        self.weight = None\n",
    "        self.abilities = []\n",
    "        self.poke_api_call()\n",
    "\n",
    "    def poke_api_call(self):\n",
    "        from pip._vendor import requests\n",
    "\n",
    "        response = requests.get(f'https://pokeapi.co/api/v2/pokemon/{self.name}/')\n",
    "\n",
    "        data = response.json()\n",
    "\n",
    "        self.name = data['name']\n",
    "        self.type = [p_type['type']['name'] for p_type in data['types']]\n",
    "        self.weight = data['weight']\n",
    "        self.abilities = [p_abilities['ability']['name'] for p_abilities in data['abilities']]"
   ]
  },
  {
   "cell_type": "code",
   "execution_count": null,
   "metadata": {},
   "outputs": [],
   "source": [
    "charmander = Pokemon('charmander')"
   ]
  },
  {
   "cell_type": "markdown",
   "metadata": {},
   "source": []
  },
  {
   "cell_type": "code",
   "execution_count": null,
   "metadata": {},
   "outputs": [],
   "source": [
    "charmander.abilities"
   ]
  },
  {
   "cell_type": "markdown",
   "metadata": {},
   "source": [
    "### Let's Catch some Pokemon"
   ]
  },
  {
   "cell_type": "code",
   "execution_count": null,
   "metadata": {},
   "outputs": [],
   "source": [
    "class Pokedex:\n",
    "    def __init__(self, name):\n",
    "        self.pokemon = {}\n",
    "\n",
    "    def add_pokemon(self, pokemon):\n",
    "        self.pokemon[pokemon.name] = pokemon\n"
   ]
  },
  {
   "cell_type": "code",
   "execution_count": null,
   "metadata": {},
   "outputs": [],
   "source": [
    "encounters = ['pikachu', 'raichu', 'ponyta', 'hitmonlee', 'squirtle', 'wartortle']\n",
    "pokedex = Pokedex()\n",
    "\n",
    "for encounter in encounters:\n",
    "    new_pokemon = Pokemon(encounter)\n",
    "    pokedex.add_pokemon(new_pokemon)\n"
   ]
  },
  {
   "cell_type": "code",
   "execution_count": null,
   "metadata": {},
   "outputs": [],
   "source": [
    "pokedex.pokemon"
   ]
  },
  {
   "cell_type": "markdown",
   "metadata": {},
   "source": [
    "## Exercise 1:"
   ]
  },
  {
   "cell_type": "markdown",
   "metadata": {},
   "source": [
    "### Create a Method prints an image of your pokemon\n",
    "\n",
    "<p>HINT: You may need another attribute as well to store your image url within. </p>"
   ]
  },
  {
   "cell_type": "code",
   "execution_count": null,
   "metadata": {},
   "outputs": [],
   "source": [
    "# Display an image in Jupyter notebook\n",
    "from IPython.display import Image\n",
    "import webbrowser\n",
    "from pip._vendor import requests\n",
    "\n",
    "# display(Image('https://i.redd.it/45n4mhusa8l41.jpg', width = 300))\n",
    "\n",
    "class Pokemon():\n",
    "    def __init__(self, name):\n",
    "        self.name = name.lower()\n",
    "        self.types = []\n",
    "        self.weight = None\n",
    "        self.abilities = []\n",
    "        self.sprite = []\n",
    "        self.poke_api_call()\n",
    "\n",
    "    def poke_api_call(self):\n",
    "        response = requests.get(f'https://pokeapi.co/api/v2/pokemon/{self.name}/')\n",
    "        data = response.json()\n",
    "\n",
    "        self.name = data['name']\n",
    "        self.type = [p_type['type']['name'] for p_type in data['types']]\n",
    "        self.sprite = data['sprites']['front_default']\n",
    "        self.weight = data['weight']\n",
    "        self.abilities = [p_abilities['ability']['name'] for p_abilities in data['abilities']]\n",
    "        self.image_url = data['sprites']['other']['official-artwork']['front_default']\n",
    "        self.species_url = data['species']['url']\n",
    "\n",
    "    def pokemonImage(self):\n",
    "        display(Image(str(self.sprite), width = 300))\n",
    "\n",
    "\n",
    "pikachu = Pokemon('pikachu')\n",
    "# pikachu.sprite.pokemonImage('pikachu')"
   ]
  },
  {
   "cell_type": "code",
   "execution_count": null,
   "metadata": {},
   "outputs": [],
   "source": [
    "# Calling our new method\n",
    "pikachu.pokemonImage()\n"
   ]
  },
  {
   "cell_type": "markdown",
   "metadata": {},
   "source": [
    "## Exercise 2:"
   ]
  },
  {
   "cell_type": "markdown",
   "metadata": {},
   "source": [
    "### Create a Method that evolves your Pokemon\n",
    "If your pokemon can't evolve any further print a message that says \"\\<name of pokemon> can't evolve.\""
   ]
  },
  {
   "cell_type": "code",
   "execution_count": 135,
   "metadata": {},
   "outputs": [],
   "source": [
    "# Display an image in Jupyter notebook\n",
    "from re import T\n",
    "from IPython.display import Image\n",
    "import webbrowser\n",
    "from pip._vendor import requests\n",
    "\n",
    "# display(Image('https://i.redd.it/45n4mhusa8l41.jpg', width = 300))\n",
    "\n",
    "class Pokemon():\n",
    "    def __init__(self, name):\n",
    "        self.name = name.lower()\n",
    "        self.types = []\n",
    "        self.weight = None\n",
    "        self.abilities = []\n",
    "        self.sprite = []\n",
    "        self.species_url = None\n",
    "        self.poke_api_call()\n",
    "\n",
    "    def poke_api_call(self):\n",
    "        response = requests.get(f'https://pokeapi.co/api/v2/pokemon/{self.name}/')\n",
    "        data = response.json()\n",
    "        # print(data['species'])\n",
    "\n",
    "        self.name = data['name']\n",
    "        self.type = [p_type['type']['name'] for p_type in data['types']]\n",
    "        self.sprite = data['sprites']['front_default']\n",
    "        self.weight = data['weight']\n",
    "        self.abilities = [p_abilities['ability']['name'] for p_abilities in data['abilities']]\n",
    "        self.image_url = data['sprites']['other']['official-artwork']['front_default']\n",
    "        self.pokeid = data['id']\n",
    "        self.species_url = data['species']['url']\n",
    "\n",
    "    def pokemonImage(self):\n",
    "        display(Image(str(self.sprite), width = 300))\n",
    "\n",
    "    def evolve(self):\n",
    "        responseSpeciesGet = requests.get(self.species_url)\n",
    "        species = responseSpeciesGet.json()\n",
    "        responseEvolution = requests.get(species['evolution_chain']['url'])\n",
    "        evolutionChain = responseEvolution.json()\n",
    "        chain = evolutionChain['chain']\n",
    "        \n",
    "        normal = chain[\"species\"][\"name\"]\n",
    "\n",
    "        evolution = chain['evolves_to'][0]\n",
    "        evolved = evolution['species']['name']\n",
    "\n",
    "        if normal == self.name:\n",
    "            pass\n",
    "        \n",
    "        elif evolved == self.name:\n",
    "            evolved = evolution['evolves_to'][0]['species']['name']\n",
    "      \n",
    "        else:\n",
    "            self.name = self.name.title()\n",
    "            print(f\"{self.name} can't evolve.\")\n",
    "            return\n",
    "\n",
    "        self.name = evolved\n",
    "        print('Your Pokemon has evolved!')\n",
    "        self.poke_api_call()"
   ]
  },
  {
   "cell_type": "code",
   "execution_count": 136,
   "metadata": {},
   "outputs": [
    {
     "name": "stdout",
     "output_type": "stream",
     "text": [
      "Your Pokemon has evolved!\n"
     ]
    },
    {
     "data": {
      "image/png": "[encoded data removed]",
      "text/plain": [
       "<IPython.core.display.Image object>"
      ]
     },
     "metadata": {
      "image/png": {
       "width": 300
      }
     },
     "output_type": "display_data"
    },
    {
     "name": "stdout",
     "output_type": "stream",
     "text": [
      "Your Pokemon has evolved!\n"
     ]
    },
    {
     "data": {
      "image/png": "[encoded data removed]",
      "text/plain": [
       "<IPython.core.display.Image object>"
      ]
     },
     "metadata": {
      "image/png": {
       "width": 300
      }
     },
     "output_type": "display_data"
    },
    {
     "name": "stdout",
     "output_type": "stream",
     "text": [
      "Raichu can't evolve.\n"
     ]
    }
   ],
   "source": [
    "pichu = Pokemon('pichu')\n",
    "pichu.evolve()\n",
    "pichu.pokemonImage()\n",
    "pichu.evolve()\n",
    "pichu.pokemonImage()\n",
    "pichu.evolve()"
   ]
  },
  {
   "cell_type": "markdown",
   "metadata": {},
   "source": [
    "Now let's evolve a few"
   ]
  },
  {
   "cell_type": "markdown",
   "metadata": {},
   "source": [
    "#  Final Exercise: <br> <br>Create a Move_Tutor Class that will allow the Pokemon Class to inherit a move list.\n",
    "<br>\n",
    "<p>for an added bonus you can make sure that if a pokemon has 4 moves the user can choose one of them to replace with a new move. </p>"
   ]
  },
  {
   "cell_type": "code",
   "execution_count": 195,
   "metadata": {},
   "outputs": [],
   "source": [
    "# Display an image in Jupyter notebook\n",
    "from re import T\n",
    "from IPython.display import Image\n",
    "import webbrowser\n",
    "from pip._vendor import requests\n",
    "\n",
    "class Move_Tutor:\n",
    "    def __init__(self):\n",
    "        self.moveList = []\n",
    "        self.currentMoves = []\n",
    "\n",
    "    def showMoves(self):\n",
    "        print(f\"There are {self.name}'s current moves: \")\n",
    "        for move in self.currentMoves:\n",
    "            print(move)\n",
    "\n",
    "    def displayMoves(self):\n",
    "        print(f\"There are {self.name}'s teachable moves: \")\n",
    "        for move in self.moveList:\n",
    "            print(move)\n",
    "\n",
    "    def teachMove(self):\n",
    "        newMove = input('What move would you like to learn?: ')\n",
    "        if newMove.lower() not in self.moveList:\n",
    "            print(\"That move is not valid.\")\n",
    "            return\n",
    "        \n",
    "        elif newMove.lower() == 'quit':\n",
    "            return\n",
    "\n",
    "        else:\n",
    "            self.currentMoves.append(newMove.lower())\n",
    "            print(f\"Added {newMove} to {self.name}'s moves!\")\n",
    "\n",
    "\n",
    "class Pokemon(Move_Tutor):\n",
    "    def __init__(self, name):\n",
    "        self.name = name.lower()\n",
    "        self.types = []\n",
    "        self.weight = None\n",
    "        self.abilities = []\n",
    "        self.sprite = []\n",
    "        self.species_url = None\n",
    "        \n",
    "        super().__init__()\n",
    "\n",
    "        self.poke_api_call()\n",
    "\n",
    "    def poke_api_call(self):\n",
    "        response = requests.get(f'https://pokeapi.co/api/v2/pokemon/{self.name}/')\n",
    "        data = response.json()\n",
    "\n",
    "        self.name = data['name']\n",
    "        self.type = [p_type['type']['name'] for p_type in data['types']]\n",
    "        self.sprite = data['sprites']['front_default']\n",
    "        self.weight = data['weight']\n",
    "        self.abilities = [p_abilities['ability']['name'] for p_abilities in data['abilities']]\n",
    "        self.image_url = data['sprites']['other']['official-artwork']['front_default']\n",
    "        self.pokeid = data['id']\n",
    "        self.species_url = data['species']['url']\n",
    "\n",
    "        moves = data['moves']\n",
    "\n",
    "        for move in moves:\n",
    "            self.moveList.append(move['move']['name'])\n",
    "\n",
    "    def pokemonImage(self):\n",
    "        display(Image(str(self.sprite), width = 300))\n",
    "\n",
    "    def evolve(self):\n",
    "        responseSpeciesGet = requests.get(self.species_url)\n",
    "        species = responseSpeciesGet.json()\n",
    "        responseEvolution = requests.get(species['evolution_chain']['url'])\n",
    "        evolutionChain = responseEvolution.json()\n",
    "        chain = evolutionChain['chain']\n",
    "        \n",
    "        normal = chain[\"species\"][\"name\"]\n",
    "\n",
    "        evolution = chain['evolves_to'][0]\n",
    "        evolved = evolution['species']['name']\n",
    "\n",
    "        if normal == self.name:\n",
    "            pass\n",
    "        \n",
    "        elif evolved == self.name:\n",
    "            evolved = evolution['evolves_to'][0]['species']['name']\n",
    "      \n",
    "        else:\n",
    "            self.name = self.name.title()\n",
    "            print(f\"{self.name} can't evolve.\")\n",
    "            return\n",
    "\n",
    "        self.name = evolved\n",
    "        print('Your Pokemon has evolved!')\n",
    "        self.poke_api_call()\n",
    "\n",
    "    \n",
    "        \n"
   ]
  },
  {
   "cell_type": "code",
   "execution_count": 196,
   "metadata": {},
   "outputs": [],
   "source": [
    "pikachu = Pokemon('pikachu')"
   ]
  },
  {
   "cell_type": "code",
   "execution_count": 197,
   "metadata": {},
   "outputs": [
    {
     "name": "stdout",
     "output_type": "stream",
     "text": [
      "There are pikachu's teachable moves\n",
      "mega-punch\n",
      "pay-day\n",
      "thunder-punch\n",
      "slam\n",
      "double-kick\n",
      "mega-kick\n",
      "headbutt\n",
      "body-slam\n",
      "take-down\n",
      "double-edge\n",
      "tail-whip\n",
      "growl\n",
      "surf\n",
      "submission\n",
      "counter\n",
      "seismic-toss\n",
      "strength\n",
      "thunder-shock\n",
      "thunderbolt\n",
      "thunder-wave\n",
      "thunder\n",
      "dig\n",
      "toxic\n",
      "agility\n",
      "quick-attack\n",
      "rage\n",
      "mimic\n",
      "double-team\n",
      "defense-curl\n",
      "light-screen\n",
      "reflect\n",
      "bide\n",
      "swift\n",
      "skull-bash\n",
      "flash\n",
      "rest\n",
      "substitute\n",
      "thief\n",
      "snore\n",
      "curse\n",
      "reversal\n",
      "protect\n",
      "sweet-kiss\n",
      "mud-slap\n",
      "zap-cannon\n",
      "detect\n",
      "endure\n",
      "charm\n",
      "rollout\n",
      "swagger\n",
      "spark\n",
      "attract\n",
      "sleep-talk\n",
      "return\n",
      "frustration\n",
      "dynamic-punch\n",
      "encore\n",
      "iron-tail\n",
      "hidden-power\n",
      "rain-dance\n",
      "rock-smash\n",
      "uproar\n",
      "facade\n",
      "focus-punch\n",
      "helping-hand\n",
      "brick-break\n",
      "knock-off\n",
      "secret-power\n",
      "signal-beam\n",
      "covet\n",
      "volt-tackle\n",
      "calm-mind\n",
      "shock-wave\n",
      "natural-gift\n",
      "feint\n",
      "fling\n",
      "magnet-rise\n",
      "nasty-plot\n",
      "discharge\n",
      "captivate\n",
      "grass-knot\n",
      "charge-beam\n",
      "electro-ball\n",
      "round\n",
      "echoed-voice\n",
      "volt-switch\n",
      "electroweb\n",
      "wild-charge\n",
      "draining-kiss\n",
      "play-rough\n",
      "play-nice\n",
      "confide\n",
      "electric-terrain\n",
      "nuzzle\n",
      "laser-focus\n",
      "rising-voltage\n"
     ]
    }
   ],
   "source": [
    "pikachu.displayMoves()"
   ]
  },
  {
   "cell_type": "code",
   "execution_count": 198,
   "metadata": {},
   "outputs": [
    {
     "name": "stdout",
     "output_type": "stream",
     "text": [
      "That move is not valid\n"
     ]
    }
   ],
   "source": [
    "pikachu.teachMove()\n"
   ]
  },
  {
   "cell_type": "code",
   "execution_count": 199,
   "metadata": {},
   "outputs": [
    {
     "name": "stdout",
     "output_type": "stream",
     "text": [
      "There are pikachu's current moves\n"
     ]
    }
   ],
   "source": [
    "pikachu.showMoves()"
   ]
  }
 ],
 "metadata": {
  "kernelspec": {
   "display_name": "Python 3.10.6 64-bit",
   "language": "python",
   "name": "python3"
  },
  "language_info": {
   "codemirror_mode": {
    "name": "ipython",
    "version": 3
   },
   "file_extension": ".py",
   "mimetype": "text/x-python",
   "name": "python",
   "nbconvert_exporter": "python",
   "pygments_lexer": "ipython3",
   "version": "3.10.6"
  },
  "vscode": {
   "interpreter": {
    "hash": "aee8b7b246df8f9039afb4144a1f6fd8d2ca17a180786b69acc140d282b71a49"
   }
  }
 },
 "nbformat": 4,
 "nbformat_minor": 4
}
